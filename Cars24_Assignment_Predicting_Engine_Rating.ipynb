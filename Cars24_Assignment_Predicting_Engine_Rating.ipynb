{
  "nbformat": 4,
  "nbformat_minor": 0,
  "metadata": {
    "colab": {
      "name": "Cars24_Assignment - Predicting Engine Rating.ipynb",
      "provenance": [],
      "authorship_tag": "ABX9TyNsRyGkEHa679VdmDKkdXyl",
      "include_colab_link": true
    },
    "kernelspec": {
      "name": "python3",
      "display_name": "Python 3"
    },
    "language_info": {
      "name": "python"
    },
    "accelerator": "GPU"
  },
  "cells": [
    {
      "cell_type": "markdown",
      "metadata": {
        "id": "view-in-github",
        "colab_type": "text"
      },
      "source": [
        "<a href=\"https://colab.research.google.com/github/mickey2798/Cars24_Assignment---Predicting-Engine-Rating/blob/master/Cars24_Assignment_Predicting_Engine_Rating.ipynb\" target=\"_parent\"><img src=\"https://colab.research.google.com/assets/colab-badge.svg\" alt=\"Open In Colab\"/></a>"
      ]
    },
    {
      "cell_type": "code",
      "metadata": {
        "id": "-g9p4g8ZzkHF"
      },
      "source": [
        "import numpy as np\n",
        "import pandas as pd\n",
        "import seaborn as sns\n",
        "import matplotlib.pyplot as plt\n",
        "\n",
        "import pickle\n",
        "import os\n",
        "\n",
        "from sklearn.model_selection import train_test_split\n",
        "from sklearn.preprocessing import LabelEncoder\n",
        "from sklearn.preprocessing import OneHotEncoder\n",
        "\n",
        "from sklearn import metrics\n",
        "\n",
        "from sklearn.model_selection import GridSearchCV\n",
        "from sklearn.ensemble import RandomForestRegressor\n",
        "from sklearn.metrics import mean_squared_error\n",
        "from sklearn.metrics import mean_absolute_error\n",
        "import warnings\n",
        "warnings.filterwarnings(\"ignore\")\n",
        " "
      ],
      "execution_count": null,
      "outputs": []
    },
    {
      "cell_type": "markdown",
      "metadata": {
        "id": "hFiPXRL8KptA"
      },
      "source": [
        "## Loading the Data"
      ]
    },
    {
      "cell_type": "code",
      "metadata": {
        "id": "5sHaAbFl0Wym"
      },
      "source": [
        "xls = pd.ExcelFile(\"data.xlsx\")\n",
        "df = pd.read_excel(xls, 'data')"
      ],
      "execution_count": null,
      "outputs": []
    },
    {
      "cell_type": "code",
      "metadata": {
        "colab": {
          "base_uri": "https://localhost:8080/",
          "height": 295
        },
        "id": "vNJdNhqL0xX_",
        "outputId": "225e1f8d-39c5-449f-9d82-76ae79f79a48"
      },
      "source": [
        "df.head()"
      ],
      "execution_count": null,
      "outputs": [
        {
          "output_type": "execute_result",
          "data": {
            "text/html": [
              "<div>\n",
              "<style scoped>\n",
              "    .dataframe tbody tr th:only-of-type {\n",
              "        vertical-align: middle;\n",
              "    }\n",
              "\n",
              "    .dataframe tbody tr th {\n",
              "        vertical-align: top;\n",
              "    }\n",
              "\n",
              "    .dataframe thead th {\n",
              "        text-align: right;\n",
              "    }\n",
              "</style>\n",
              "<table border=\"1\" class=\"dataframe\">\n",
              "  <thead>\n",
              "    <tr style=\"text-align: right;\">\n",
              "      <th></th>\n",
              "      <th>appointmentId</th>\n",
              "      <th>inspectionStartTime</th>\n",
              "      <th>year</th>\n",
              "      <th>month</th>\n",
              "      <th>engineTransmission_battery_value</th>\n",
              "      <th>engineTransmission_battery_cc_value_0</th>\n",
              "      <th>engineTransmission_battery_cc_value_1</th>\n",
              "      <th>engineTransmission_battery_cc_value_2</th>\n",
              "      <th>engineTransmission_battery_cc_value_3</th>\n",
              "      <th>engineTransmission_battery_cc_value_4</th>\n",
              "      <th>engineTransmission_engineoilLevelDipstick_value</th>\n",
              "      <th>engineTransmission_engineOilLevelDipstick_cc_value_0</th>\n",
              "      <th>engineTransmission_engineOil</th>\n",
              "      <th>engineTransmission_engineOil_cc_value_0</th>\n",
              "      <th>engineTransmission_engineOil_cc_value_1</th>\n",
              "      <th>engineTransmission_engineOil_cc_value_2</th>\n",
              "      <th>engineTransmission_engineOil_cc_value_3</th>\n",
              "      <th>engineTransmission_engineOil_cc_value_4</th>\n",
              "      <th>engineTransmission_engineOil_cc_value_5</th>\n",
              "      <th>engineTransmission_engineOil_cc_value_6</th>\n",
              "      <th>engineTransmission_engineOil_cc_value_7</th>\n",
              "      <th>engineTransmission_engineOil_cc_value_8</th>\n",
              "      <th>engineTransmission_engineOil_cc_value_9</th>\n",
              "      <th>engineTransmission_engine_value</th>\n",
              "      <th>engineTransmission_engine_cc_value_0</th>\n",
              "      <th>engineTransmission_engine_cc_value_1</th>\n",
              "      <th>engineTransmission_engine_cc_value_2</th>\n",
              "      <th>engineTransmission_engine_cc_value_3</th>\n",
              "      <th>engineTransmission_engine_cc_value_4</th>\n",
              "      <th>engineTransmission_engine_cc_value_5</th>\n",
              "      <th>engineTransmission_engine_cc_value_6</th>\n",
              "      <th>engineTransmission_engine_cc_value_7</th>\n",
              "      <th>engineTransmission_engine_cc_value_8</th>\n",
              "      <th>engineTransmission_engine_cc_value_9</th>\n",
              "      <th>engineTransmission_engine_cc_value_10</th>\n",
              "      <th>engineTransmission_coolant_value</th>\n",
              "      <th>engineTransmission_coolant_cc_value_0</th>\n",
              "      <th>engineTransmission_coolant_cc_value_1</th>\n",
              "      <th>engineTransmission_coolant_cc_value_2</th>\n",
              "      <th>engineTransmission_coolant_cc_value_3</th>\n",
              "      <th>engineTransmission_engineMounting_value</th>\n",
              "      <th>engineTransmission_engineMounting_cc_value_0</th>\n",
              "      <th>engineTransmission_engineSound_value</th>\n",
              "      <th>engineTransmission_engineSound_cc_value_0</th>\n",
              "      <th>engineTransmission_engineSound_cc_value_1</th>\n",
              "      <th>engineTransmission_engineSound_cc_value_2</th>\n",
              "      <th>engineTransmission_engineSound_cc_value_3</th>\n",
              "      <th>engineTransmission_engineSound_cc_value_4</th>\n",
              "      <th>engineTransmission_engineSound_cc_value_5</th>\n",
              "      <th>engineTransmission_exhaustSmoke_value</th>\n",
              "      <th>engineTransmission_exhaustSmoke_cc_value_0</th>\n",
              "      <th>engineTransmission_engineBlowByBackCompression_value</th>\n",
              "      <th>engineTransmission_engineBlowByBackCompression_cc_value_0</th>\n",
              "      <th>engineTransmission_clutch_value</th>\n",
              "      <th>engineTransmission_clutch_cc_value_0</th>\n",
              "      <th>engineTransmission_clutch_cc_value_1</th>\n",
              "      <th>engineTransmission_clutch_cc_value_2</th>\n",
              "      <th>engineTransmission_clutch_cc_value_3</th>\n",
              "      <th>engineTransmission_clutch_cc_value_4</th>\n",
              "      <th>engineTransmission_clutch_cc_value_5</th>\n",
              "      <th>engineTransmission_clutch_cc_value_6</th>\n",
              "      <th>engineTransmission_gearShifting_value</th>\n",
              "      <th>engineTransmission_gearShifting_cc_value_0</th>\n",
              "      <th>engineTransmission_gearShifting_cc_value_1</th>\n",
              "      <th>engineTransmission_gearShifting_cc_value_2</th>\n",
              "      <th>engineTransmission_comments_value_0</th>\n",
              "      <th>engineTransmission_comments_value_1</th>\n",
              "      <th>engineTransmission_comments_value_2</th>\n",
              "      <th>engineTransmission_comments_value_3</th>\n",
              "      <th>engineTransmission_comments_value_4</th>\n",
              "      <th>fuel_type</th>\n",
              "      <th>odometer_reading</th>\n",
              "      <th>rating_engineTransmission</th>\n",
              "    </tr>\n",
              "  </thead>\n",
              "  <tbody>\n",
              "    <tr>\n",
              "      <th>0</th>\n",
              "      <td>aj_01</td>\n",
              "      <td>2019-02-03 15:43:48</td>\n",
              "      <td>2008</td>\n",
              "      <td>8</td>\n",
              "      <td>No</td>\n",
              "      <td>Weak</td>\n",
              "      <td>NaN</td>\n",
              "      <td>NaN</td>\n",
              "      <td>NaN</td>\n",
              "      <td>NaN</td>\n",
              "      <td>Yes</td>\n",
              "      <td>NaN</td>\n",
              "      <td>No</td>\n",
              "      <td>Leaking</td>\n",
              "      <td>Dirty</td>\n",
              "      <td>Leakage from Tappet Cover</td>\n",
              "      <td>Leakage from Side cover</td>\n",
              "      <td>NaN</td>\n",
              "      <td>NaN</td>\n",
              "      <td>NaN</td>\n",
              "      <td>NaN</td>\n",
              "      <td>NaN</td>\n",
              "      <td>NaN</td>\n",
              "      <td>No</td>\n",
              "      <td>Repaired</td>\n",
              "      <td>Misfiring</td>\n",
              "      <td>NaN</td>\n",
              "      <td>NaN</td>\n",
              "      <td>NaN</td>\n",
              "      <td>NaN</td>\n",
              "      <td>NaN</td>\n",
              "      <td>NaN</td>\n",
              "      <td>NaN</td>\n",
              "      <td>NaN</td>\n",
              "      <td>NaN</td>\n",
              "      <td>No</td>\n",
              "      <td>Leaking</td>\n",
              "      <td>Dirty</td>\n",
              "      <td>NaN</td>\n",
              "      <td>NaN</td>\n",
              "      <td>No</td>\n",
              "      <td>Excess Vibration</td>\n",
              "      <td>No</td>\n",
              "      <td>Alternator Brg Noise</td>\n",
              "      <td>Water Pump Brg Noise</td>\n",
              "      <td>Timing Noise</td>\n",
              "      <td>Tappet Noise</td>\n",
              "      <td>Engine Auxiliary Noise</td>\n",
              "      <td>NaN</td>\n",
              "      <td>No</td>\n",
              "      <td>White</td>\n",
              "      <td>No</td>\n",
              "      <td>Back Compression Exist</td>\n",
              "      <td>No</td>\n",
              "      <td>Spongy</td>\n",
              "      <td>NaN</td>\n",
              "      <td>NaN</td>\n",
              "      <td>NaN</td>\n",
              "      <td>NaN</td>\n",
              "      <td>NaN</td>\n",
              "      <td>NaN</td>\n",
              "      <td>Yes</td>\n",
              "      <td>NaN</td>\n",
              "      <td>NaN</td>\n",
              "      <td>NaN</td>\n",
              "      <td>Pickup Low</td>\n",
              "      <td>Starter Motor / Solenoid malfunctioning</td>\n",
              "      <td>NaN</td>\n",
              "      <td>NaN</td>\n",
              "      <td>NaN</td>\n",
              "      <td>Petrol + CNG</td>\n",
              "      <td>124600</td>\n",
              "      <td>3.0</td>\n",
              "    </tr>\n",
              "    <tr>\n",
              "      <th>1</th>\n",
              "      <td>aj_02</td>\n",
              "      <td>2019-01-16 13:02:12</td>\n",
              "      <td>2007</td>\n",
              "      <td>5</td>\n",
              "      <td>Yes</td>\n",
              "      <td>NaN</td>\n",
              "      <td>NaN</td>\n",
              "      <td>NaN</td>\n",
              "      <td>NaN</td>\n",
              "      <td>NaN</td>\n",
              "      <td>Yes</td>\n",
              "      <td>NaN</td>\n",
              "      <td>No</td>\n",
              "      <td>Leaking</td>\n",
              "      <td>Dirty</td>\n",
              "      <td>Leakage from Tappet Cover</td>\n",
              "      <td>Leakage from Side cover</td>\n",
              "      <td>Leakage from Sump/chamber</td>\n",
              "      <td>NaN</td>\n",
              "      <td>NaN</td>\n",
              "      <td>NaN</td>\n",
              "      <td>NaN</td>\n",
              "      <td>NaN</td>\n",
              "      <td>No</td>\n",
              "      <td>RPM fluctuating</td>\n",
              "      <td>Misfiring</td>\n",
              "      <td>NaN</td>\n",
              "      <td>NaN</td>\n",
              "      <td>NaN</td>\n",
              "      <td>NaN</td>\n",
              "      <td>NaN</td>\n",
              "      <td>NaN</td>\n",
              "      <td>NaN</td>\n",
              "      <td>NaN</td>\n",
              "      <td>NaN</td>\n",
              "      <td>No</td>\n",
              "      <td>Leaking</td>\n",
              "      <td>Dirty</td>\n",
              "      <td>NaN</td>\n",
              "      <td>NaN</td>\n",
              "      <td>Yes</td>\n",
              "      <td>NaN</td>\n",
              "      <td>No</td>\n",
              "      <td>Timing Noise</td>\n",
              "      <td>Tappet Noise</td>\n",
              "      <td>Engine Auxiliary Noise</td>\n",
              "      <td>NaN</td>\n",
              "      <td>NaN</td>\n",
              "      <td>NaN</td>\n",
              "      <td>No</td>\n",
              "      <td>Noise from silencer assembly</td>\n",
              "      <td>Yes</td>\n",
              "      <td>NO Blow-by</td>\n",
              "      <td>Yes</td>\n",
              "      <td>NaN</td>\n",
              "      <td>NaN</td>\n",
              "      <td>NaN</td>\n",
              "      <td>NaN</td>\n",
              "      <td>NaN</td>\n",
              "      <td>NaN</td>\n",
              "      <td>NaN</td>\n",
              "      <td>Yes</td>\n",
              "      <td>NaN</td>\n",
              "      <td>NaN</td>\n",
              "      <td>NaN</td>\n",
              "      <td>NaN</td>\n",
              "      <td>NaN</td>\n",
              "      <td>NaN</td>\n",
              "      <td>NaN</td>\n",
              "      <td>NaN</td>\n",
              "      <td>Petrol + CNG</td>\n",
              "      <td>78108</td>\n",
              "      <td>4.0</td>\n",
              "    </tr>\n",
              "    <tr>\n",
              "      <th>2</th>\n",
              "      <td>aj_03</td>\n",
              "      <td>2019-02-09 13:31:04</td>\n",
              "      <td>2012</td>\n",
              "      <td>5</td>\n",
              "      <td>Yes</td>\n",
              "      <td>NaN</td>\n",
              "      <td>NaN</td>\n",
              "      <td>NaN</td>\n",
              "      <td>NaN</td>\n",
              "      <td>NaN</td>\n",
              "      <td>Yes</td>\n",
              "      <td>NaN</td>\n",
              "      <td>No</td>\n",
              "      <td>Dirty</td>\n",
              "      <td>NaN</td>\n",
              "      <td>NaN</td>\n",
              "      <td>NaN</td>\n",
              "      <td>NaN</td>\n",
              "      <td>NaN</td>\n",
              "      <td>NaN</td>\n",
              "      <td>NaN</td>\n",
              "      <td>NaN</td>\n",
              "      <td>NaN</td>\n",
              "      <td>Yes</td>\n",
              "      <td>NaN</td>\n",
              "      <td>NaN</td>\n",
              "      <td>NaN</td>\n",
              "      <td>NaN</td>\n",
              "      <td>NaN</td>\n",
              "      <td>NaN</td>\n",
              "      <td>NaN</td>\n",
              "      <td>NaN</td>\n",
              "      <td>NaN</td>\n",
              "      <td>NaN</td>\n",
              "      <td>NaN</td>\n",
              "      <td>No</td>\n",
              "      <td>Dirty</td>\n",
              "      <td>NaN</td>\n",
              "      <td>NaN</td>\n",
              "      <td>NaN</td>\n",
              "      <td>No</td>\n",
              "      <td>Excess Vibration</td>\n",
              "      <td>No</td>\n",
              "      <td>Alternator Brg Noise</td>\n",
              "      <td>Engine Auxiliary Noise</td>\n",
              "      <td>NaN</td>\n",
              "      <td>NaN</td>\n",
              "      <td>NaN</td>\n",
              "      <td>NaN</td>\n",
              "      <td>No</td>\n",
              "      <td>Black</td>\n",
              "      <td>Yes</td>\n",
              "      <td>Perm. Blow By on idle</td>\n",
              "      <td>No</td>\n",
              "      <td>Hard</td>\n",
              "      <td>Spongy</td>\n",
              "      <td>NaN</td>\n",
              "      <td>NaN</td>\n",
              "      <td>NaN</td>\n",
              "      <td>NaN</td>\n",
              "      <td>NaN</td>\n",
              "      <td>Yes</td>\n",
              "      <td>NaN</td>\n",
              "      <td>NaN</td>\n",
              "      <td>NaN</td>\n",
              "      <td>NaN</td>\n",
              "      <td>NaN</td>\n",
              "      <td>NaN</td>\n",
              "      <td>NaN</td>\n",
              "      <td>NaN</td>\n",
              "      <td>Diesel</td>\n",
              "      <td>93348</td>\n",
              "      <td>3.5</td>\n",
              "    </tr>\n",
              "    <tr>\n",
              "      <th>3</th>\n",
              "      <td>aj_04</td>\n",
              "      <td>2019-01-18 11:02:53</td>\n",
              "      <td>2013</td>\n",
              "      <td>1</td>\n",
              "      <td>Yes</td>\n",
              "      <td>NaN</td>\n",
              "      <td>NaN</td>\n",
              "      <td>NaN</td>\n",
              "      <td>NaN</td>\n",
              "      <td>NaN</td>\n",
              "      <td>Yes</td>\n",
              "      <td>NaN</td>\n",
              "      <td>No</td>\n",
              "      <td>Dirty</td>\n",
              "      <td>NaN</td>\n",
              "      <td>NaN</td>\n",
              "      <td>NaN</td>\n",
              "      <td>NaN</td>\n",
              "      <td>NaN</td>\n",
              "      <td>NaN</td>\n",
              "      <td>NaN</td>\n",
              "      <td>NaN</td>\n",
              "      <td>NaN</td>\n",
              "      <td>Yes</td>\n",
              "      <td>NaN</td>\n",
              "      <td>NaN</td>\n",
              "      <td>NaN</td>\n",
              "      <td>NaN</td>\n",
              "      <td>NaN</td>\n",
              "      <td>NaN</td>\n",
              "      <td>NaN</td>\n",
              "      <td>NaN</td>\n",
              "      <td>NaN</td>\n",
              "      <td>NaN</td>\n",
              "      <td>NaN</td>\n",
              "      <td>No</td>\n",
              "      <td>Dirty</td>\n",
              "      <td>NaN</td>\n",
              "      <td>NaN</td>\n",
              "      <td>NaN</td>\n",
              "      <td>Yes</td>\n",
              "      <td>NaN</td>\n",
              "      <td>Yes</td>\n",
              "      <td>NaN</td>\n",
              "      <td>NaN</td>\n",
              "      <td>NaN</td>\n",
              "      <td>NaN</td>\n",
              "      <td>NaN</td>\n",
              "      <td>NaN</td>\n",
              "      <td>Yes</td>\n",
              "      <td>NaN</td>\n",
              "      <td>Yes</td>\n",
              "      <td>NO Blow-by</td>\n",
              "      <td>No</td>\n",
              "      <td>Hard</td>\n",
              "      <td>NaN</td>\n",
              "      <td>NaN</td>\n",
              "      <td>NaN</td>\n",
              "      <td>NaN</td>\n",
              "      <td>NaN</td>\n",
              "      <td>NaN</td>\n",
              "      <td>Yes</td>\n",
              "      <td>NaN</td>\n",
              "      <td>NaN</td>\n",
              "      <td>NaN</td>\n",
              "      <td>NaN</td>\n",
              "      <td>NaN</td>\n",
              "      <td>NaN</td>\n",
              "      <td>NaN</td>\n",
              "      <td>NaN</td>\n",
              "      <td>Petrol + CNG</td>\n",
              "      <td>48233</td>\n",
              "      <td>3.5</td>\n",
              "    </tr>\n",
              "    <tr>\n",
              "      <th>4</th>\n",
              "      <td>aj_05</td>\n",
              "      <td>2019-01-27 12:12:06</td>\n",
              "      <td>2011</td>\n",
              "      <td>7</td>\n",
              "      <td>Yes</td>\n",
              "      <td>NaN</td>\n",
              "      <td>NaN</td>\n",
              "      <td>NaN</td>\n",
              "      <td>NaN</td>\n",
              "      <td>NaN</td>\n",
              "      <td>Yes</td>\n",
              "      <td>NaN</td>\n",
              "      <td>No</td>\n",
              "      <td>Leaking</td>\n",
              "      <td>Leakage from Tappet Cover</td>\n",
              "      <td>NaN</td>\n",
              "      <td>NaN</td>\n",
              "      <td>NaN</td>\n",
              "      <td>NaN</td>\n",
              "      <td>NaN</td>\n",
              "      <td>NaN</td>\n",
              "      <td>NaN</td>\n",
              "      <td>NaN</td>\n",
              "      <td>No</td>\n",
              "      <td>RPM fluctuating</td>\n",
              "      <td>Over heating</td>\n",
              "      <td>Misfiring</td>\n",
              "      <td>NaN</td>\n",
              "      <td>NaN</td>\n",
              "      <td>NaN</td>\n",
              "      <td>NaN</td>\n",
              "      <td>NaN</td>\n",
              "      <td>NaN</td>\n",
              "      <td>NaN</td>\n",
              "      <td>NaN</td>\n",
              "      <td>Yes</td>\n",
              "      <td>NaN</td>\n",
              "      <td>NaN</td>\n",
              "      <td>NaN</td>\n",
              "      <td>NaN</td>\n",
              "      <td>No</td>\n",
              "      <td>Excess Vibration</td>\n",
              "      <td>No</td>\n",
              "      <td>Timing Noise</td>\n",
              "      <td>Tappet Noise</td>\n",
              "      <td>Engine Auxiliary Noise</td>\n",
              "      <td>NaN</td>\n",
              "      <td>NaN</td>\n",
              "      <td>NaN</td>\n",
              "      <td>No</td>\n",
              "      <td>White</td>\n",
              "      <td>Yes</td>\n",
              "      <td>NO Blow-by</td>\n",
              "      <td>No</td>\n",
              "      <td>Spongy</td>\n",
              "      <td>Low Pick Up</td>\n",
              "      <td>NaN</td>\n",
              "      <td>NaN</td>\n",
              "      <td>NaN</td>\n",
              "      <td>NaN</td>\n",
              "      <td>NaN</td>\n",
              "      <td>Yes</td>\n",
              "      <td>NaN</td>\n",
              "      <td>NaN</td>\n",
              "      <td>NaN</td>\n",
              "      <td>NaN</td>\n",
              "      <td>NaN</td>\n",
              "      <td>NaN</td>\n",
              "      <td>NaN</td>\n",
              "      <td>NaN</td>\n",
              "      <td>Petrol + CNG</td>\n",
              "      <td>74368</td>\n",
              "      <td>4.0</td>\n",
              "    </tr>\n",
              "  </tbody>\n",
              "</table>\n",
              "</div>"
            ],
            "text/plain": [
              "  appointmentId  ... rating_engineTransmission\n",
              "0         aj_01  ...                       3.0\n",
              "1         aj_02  ...                       4.0\n",
              "2         aj_03  ...                       3.5\n",
              "3         aj_04  ...                       3.5\n",
              "4         aj_05  ...                       4.0\n",
              "\n",
              "[5 rows x 73 columns]"
            ]
          },
          "metadata": {},
          "execution_count": 6
        }
      ]
    },
    {
      "cell_type": "code",
      "metadata": {
        "id": "Uxx2PM6x07PP",
        "colab": {
          "base_uri": "https://localhost:8080/"
        },
        "outputId": "c99b94df-fca1-451f-926d-0cce6a22a2aa"
      },
      "source": [
        "# Checking the shape of the given Data => We have total 26307 rows and 73 features.\n",
        "df.shape"
      ],
      "execution_count": null,
      "outputs": [
        {
          "output_type": "execute_result",
          "data": {
            "text/plain": [
              "(26307, 73)"
            ]
          },
          "metadata": {},
          "execution_count": 7
        }
      ]
    },
    {
      "cell_type": "code",
      "metadata": {
        "colab": {
          "base_uri": "https://localhost:8080/",
          "height": 569
        },
        "id": "71u3BJTJJZ2Q",
        "outputId": "f701d3c1-efd6-480a-f25b-ece7bf537a9b"
      },
      "source": [
        "sns.heatmap(df.isnull(),yticklabels=False,cbar=False)"
      ],
      "execution_count": null,
      "outputs": [
        {
          "output_type": "execute_result",
          "data": {
            "text/plain": [
              "<matplotlib.axes._subplots.AxesSubplot at 0x7f1d09cf6ad0>"
            ]
          },
          "metadata": {},
          "execution_count": 9
        },
        {
          "output_type": "display_data",
          "data": {
            "image/png": "[encoded data removed]",
            "text/plain": [
              "<Figure size 432x288 with 1 Axes>"
            ]
          },
          "metadata": {
            "needs_background": "light"
          }
        }
      ]
    },
    {
      "cell_type": "code",
      "metadata": {
        "colab": {
          "base_uri": "https://localhost:8080/"
        },
        "id": "sr26YxIwLAKR",
        "outputId": "a5d7fe77-c33b-4ed6-a75e-5ca312781c29"
      },
      "source": [
        "##Checking how many nulls do we have in our DataSet.\n",
        "nulls = df.isnull().sum(axis=0).to_frame()\n",
        "for index, row in nulls.iterrows():\n",
        "  print(f\"{index} : {row[0]}\")\n"
      ],
      "execution_count": null,
      "outputs": [
        {
          "output_type": "stream",
          "name": "stdout",
          "text": [
            "appointmentId : 0\n",
            "inspectionStartTime : 0\n",
            "year : 0\n",
            "month : 0\n",
            "engineTransmission_battery_value : 0\n",
            "engineTransmission_battery_cc_value_0 : 22869\n",
            "engineTransmission_battery_cc_value_1 : 25877\n",
            "engineTransmission_battery_cc_value_2 : 26235\n",
            "engineTransmission_battery_cc_value_3 : 26291\n",
            "engineTransmission_battery_cc_value_4 : 26303\n",
            "engineTransmission_engineoilLevelDipstick_value : 0\n",
            "engineTransmission_engineOilLevelDipstick_cc_value_0 : 25896\n",
            "engineTransmission_engineOil : 0\n",
            "engineTransmission_engineOil_cc_value_0 : 7750\n",
            "engineTransmission_engineOil_cc_value_1 : 15303\n",
            "engineTransmission_engineOil_cc_value_2 : 19714\n",
            "engineTransmission_engineOil_cc_value_3 : 22565\n",
            "engineTransmission_engineOil_cc_value_4 : 24535\n",
            "engineTransmission_engineOil_cc_value_5 : 25698\n",
            "engineTransmission_engineOil_cc_value_6 : 26186\n",
            "engineTransmission_engineOil_cc_value_7 : 26296\n",
            "engineTransmission_engineOil_cc_value_8 : 26305\n",
            "engineTransmission_engineOil_cc_value_9 : 26307\n",
            "engineTransmission_engine_value : 0\n",
            "engineTransmission_engine_cc_value_0 : 17237\n",
            "engineTransmission_engine_cc_value_1 : 21223\n",
            "engineTransmission_engine_cc_value_2 : 23933\n",
            "engineTransmission_engine_cc_value_3 : 25403\n",
            "engineTransmission_engine_cc_value_4 : 26011\n",
            "engineTransmission_engine_cc_value_5 : 26215\n",
            "engineTransmission_engine_cc_value_6 : 26270\n",
            "engineTransmission_engine_cc_value_7 : 26299\n",
            "engineTransmission_engine_cc_value_8 : 26303\n",
            "engineTransmission_engine_cc_value_9 : 26304\n",
            "engineTransmission_engine_cc_value_10 : 26307\n",
            "engineTransmission_coolant_value : 0\n",
            "engineTransmission_coolant_cc_value_0 : 16271\n",
            "engineTransmission_coolant_cc_value_1 : 23944\n",
            "engineTransmission_coolant_cc_value_2 : 26072\n",
            "engineTransmission_coolant_cc_value_3 : 26299\n",
            "engineTransmission_engineMounting_value : 0\n",
            "engineTransmission_engineMounting_cc_value_0 : 17020\n",
            "engineTransmission_engineSound_value : 0\n",
            "engineTransmission_engineSound_cc_value_0 : 7227\n",
            "engineTransmission_engineSound_cc_value_1 : 12802\n",
            "engineTransmission_engineSound_cc_value_2 : 20235\n",
            "engineTransmission_engineSound_cc_value_3 : 24155\n",
            "engineTransmission_engineSound_cc_value_4 : 25580\n",
            "engineTransmission_engineSound_cc_value_5 : 26123\n",
            "engineTransmission_exhaustSmoke_value : 0\n",
            "engineTransmission_exhaustSmoke_cc_value_0 : 20751\n",
            "engineTransmission_engineBlowByBackCompression_value : 0\n",
            "engineTransmission_engineBlowByBackCompression_cc_value_0 : 0\n",
            "engineTransmission_clutch_value : 0\n",
            "engineTransmission_clutch_cc_value_0 : 14543\n",
            "engineTransmission_clutch_cc_value_1 : 22003\n",
            "engineTransmission_clutch_cc_value_2 : 25510\n",
            "engineTransmission_clutch_cc_value_3 : 26148\n",
            "engineTransmission_clutch_cc_value_4 : 26264\n",
            "engineTransmission_clutch_cc_value_5 : 26300\n",
            "engineTransmission_clutch_cc_value_6 : 26306\n",
            "engineTransmission_gearShifting_value : 0\n",
            "engineTransmission_gearShifting_cc_value_0 : 22843\n",
            "engineTransmission_gearShifting_cc_value_1 : 25536\n",
            "engineTransmission_gearShifting_cc_value_2 : 26241\n",
            "engineTransmission_comments_value_0 : 22241\n",
            "engineTransmission_comments_value_1 : 24999\n",
            "engineTransmission_comments_value_2 : 25917\n",
            "engineTransmission_comments_value_3 : 26248\n",
            "engineTransmission_comments_value_4 : 26293\n",
            "fuel_type : 0\n",
            "odometer_reading : 0\n",
            "rating_engineTransmission : 0\n"
          ]
        }
      ]
    },
    {
      "cell_type": "markdown",
      "metadata": {
        "id": "Q6ifGx2INmxv"
      },
      "source": [
        "## So after checking, we get to know that our dataset has a lot of missing values. So we drop those columns/ features with more than 50% missing values"
      ]
    },
    {
      "cell_type": "code",
      "metadata": {
        "id": "CRgSQEh8Loj1"
      },
      "source": [
        "count_half = len(df)/2"
      ],
      "execution_count": null,
      "outputs": []
    },
    {
      "cell_type": "code",
      "metadata": {
        "id": "ardwHGBrOANl"
      },
      "source": [
        "df = df.dropna(thresh=count_half,axis=1)"
      ],
      "execution_count": null,
      "outputs": []
    },
    {
      "cell_type": "code",
      "metadata": {
        "colab": {
          "base_uri": "https://localhost:8080/"
        },
        "id": "7ECXQ8WUOKwJ",
        "outputId": "a5431faa-8e7f-47d6-fabe-2491de64227a"
      },
      "source": [
        "##Checking how many nulls do we have in our DataSet.\n",
        "nulls = df.isnull().sum(axis=0).to_frame()\n",
        "for index, row in nulls.iterrows():\n",
        "  print(f\"{index} : {row[0]}\")"
      ],
      "execution_count": null,
      "outputs": [
        {
          "output_type": "stream",
          "name": "stdout",
          "text": [
            "appointmentId : 0\n",
            "inspectionStartTime : 0\n",
            "year : 0\n",
            "month : 0\n",
            "engineTransmission_battery_value : 0\n",
            "engineTransmission_engineoilLevelDipstick_value : 0\n",
            "engineTransmission_engineOil : 0\n",
            "engineTransmission_engineOil_cc_value_0 : 7750\n",
            "engineTransmission_engine_value : 0\n",
            "engineTransmission_coolant_value : 0\n",
            "engineTransmission_engineMounting_value : 0\n",
            "engineTransmission_engineSound_value : 0\n",
            "engineTransmission_engineSound_cc_value_0 : 7227\n",
            "engineTransmission_engineSound_cc_value_1 : 12802\n",
            "engineTransmission_exhaustSmoke_value : 0\n",
            "engineTransmission_engineBlowByBackCompression_value : 0\n",
            "engineTransmission_engineBlowByBackCompression_cc_value_0 : 0\n",
            "engineTransmission_clutch_value : 0\n",
            "engineTransmission_gearShifting_value : 0\n",
            "fuel_type : 0\n",
            "odometer_reading : 0\n",
            "rating_engineTransmission : 0\n"
          ]
        }
      ]
    },
    {
      "cell_type": "markdown",
      "metadata": {
        "id": "odf2UV5APub-"
      },
      "source": [
        "## We have 3 features still left with missing data with one approx 50% missing data. So we will drop one feature with approx 50% missing data and fill rest 2 columns data"
      ]
    },
    {
      "cell_type": "code",
      "metadata": {
        "colab": {
          "base_uri": "https://localhost:8080/"
        },
        "id": "L3STfrCAORkN",
        "outputId": "4c9229f4-7dff-42f6-c2bd-35fa346d789f"
      },
      "source": [
        "df.shape"
      ],
      "execution_count": null,
      "outputs": [
        {
          "output_type": "execute_result",
          "data": {
            "text/plain": [
              "(26307, 22)"
            ]
          },
          "metadata": {},
          "execution_count": 14
        }
      ]
    },
    {
      "cell_type": "code",
      "metadata": {
        "colab": {
          "base_uri": "https://localhost:8080/"
        },
        "id": "dSta1UCAOWFz",
        "outputId": "01996f74-1105-44d8-ad5d-49f77848d9c9"
      },
      "source": [
        "df.info()"
      ],
      "execution_count": null,
      "outputs": [
        {
          "output_type": "stream",
          "name": "stdout",
          "text": [
            "<class 'pandas.core.frame.DataFrame'>\n",
            "RangeIndex: 26307 entries, 0 to 26306\n",
            "Data columns (total 22 columns):\n",
            " #   Column                                                     Non-Null Count  Dtype         \n",
            "---  ------                                                     --------------  -----         \n",
            " 0   appointmentId                                              26307 non-null  object        \n",
            " 1   inspectionStartTime                                        26307 non-null  datetime64[ns]\n",
            " 2   year                                                       26307 non-null  int64         \n",
            " 3   month                                                      26307 non-null  int64         \n",
            " 4   engineTransmission_battery_value                           26307 non-null  object        \n",
            " 5   engineTransmission_engineoilLevelDipstick_value            26307 non-null  object        \n",
            " 6   engineTransmission_engineOil                               26307 non-null  object        \n",
            " 7   engineTransmission_engineOil_cc_value_0                    18557 non-null  object        \n",
            " 8   engineTransmission_engine_value                            26307 non-null  object        \n",
            " 9   engineTransmission_coolant_value                           26307 non-null  object        \n",
            " 10  engineTransmission_engineMounting_value                    26307 non-null  object        \n",
            " 11  engineTransmission_engineSound_value                       26307 non-null  object        \n",
            " 12  engineTransmission_engineSound_cc_value_0                  19080 non-null  object        \n",
            " 13  engineTransmission_engineSound_cc_value_1                  13505 non-null  object        \n",
            " 14  engineTransmission_exhaustSmoke_value                      26307 non-null  object        \n",
            " 15  engineTransmission_engineBlowByBackCompression_value       26307 non-null  object        \n",
            " 16  engineTransmission_engineBlowByBackCompression_cc_value_0  26307 non-null  object        \n",
            " 17  engineTransmission_clutch_value                            26307 non-null  object        \n",
            " 18  engineTransmission_gearShifting_value                      26307 non-null  object        \n",
            " 19  fuel_type                                                  26307 non-null  object        \n",
            " 20  odometer_reading                                           26307 non-null  int64         \n",
            " 21  rating_engineTransmission                                  26307 non-null  float64       \n",
            "dtypes: datetime64[ns](1), float64(1), int64(3), object(17)\n",
            "memory usage: 4.4+ MB\n"
          ]
        }
      ]
    },
    {
      "cell_type": "code",
      "metadata": {
        "id": "G4tnPivGOrgY"
      },
      "source": [
        "##Filing the missing values \n",
        "df['engineTransmission_engineOil_cc_value_0']=df['engineTransmission_engineOil_cc_value_0']\\\n",
        ".fillna(df['engineTransmission_engineOil_cc_value_0'].mode()[0])"
      ],
      "execution_count": null,
      "outputs": []
    },
    {
      "cell_type": "code",
      "metadata": {
        "id": "W8vFFaqkQ5SS"
      },
      "source": [
        "df['engineTransmission_engineSound_cc_value_0']=df['engineTransmission_engineSound_cc_value_0']\\\n",
        ".fillna(df['engineTransmission_engineSound_cc_value_0'].mode()[0])\n"
      ],
      "execution_count": null,
      "outputs": []
    },
    {
      "cell_type": "code",
      "metadata": {
        "colab": {
          "base_uri": "https://localhost:8080/"
        },
        "id": "DdIoSpHHReCG",
        "outputId": "c375b590-369f-4c03-9a8c-e7b34ced6abb"
      },
      "source": [
        "df['engineTransmission_engineOil_cc_value_0'].head(10)"
      ],
      "execution_count": null,
      "outputs": [
        {
          "output_type": "execute_result",
          "data": {
            "text/plain": [
              "0      Leaking\n",
              "1      Leaking\n",
              "2        Dirty\n",
              "3        Dirty\n",
              "4      Leaking\n",
              "5      Leaking\n",
              "6        Dirty\n",
              "7      Leaking\n",
              "8    Level Low\n",
              "9        Dirty\n",
              "Name: engineTransmission_engineOil_cc_value_0, dtype: object"
            ]
          },
          "metadata": {},
          "execution_count": 18
        }
      ]
    },
    {
      "cell_type": "code",
      "metadata": {
        "colab": {
          "base_uri": "https://localhost:8080/"
        },
        "id": "rZHpBtBoRnch",
        "outputId": "f9e4867b-f8bb-463b-9f09-aefe30220ca4"
      },
      "source": [
        "df['engineTransmission_engineSound_cc_value_0'].head(10)"
      ],
      "execution_count": null,
      "outputs": [
        {
          "output_type": "execute_result",
          "data": {
            "text/plain": [
              "0    Alternator Brg Noise\n",
              "1            Timing Noise\n",
              "2    Alternator Brg Noise\n",
              "3            Timing Noise\n",
              "4            Timing Noise\n",
              "5            Tappet Noise\n",
              "6            Timing Noise\n",
              "7            Timing Noise\n",
              "8    Alternator Brg Noise\n",
              "9            Timing Noise\n",
              "Name: engineTransmission_engineSound_cc_value_0, dtype: object"
            ]
          },
          "metadata": {},
          "execution_count": 19
        }
      ]
    },
    {
      "cell_type": "code",
      "metadata": {
        "id": "OCbFU5ppRzxg"
      },
      "source": [
        "## Droping this particular feature because it has missing values greater than 50%.\n",
        "df.drop(['engineTransmission_engineSound_cc_value_1'],axis=1,inplace=True)"
      ],
      "execution_count": null,
      "outputs": []
    },
    {
      "cell_type": "code",
      "metadata": {
        "colab": {
          "base_uri": "https://localhost:8080/"
        },
        "id": "QY5ZTyi-SCos",
        "outputId": "e307dc20-3779-4a28-f498-96725181471b"
      },
      "source": [
        "#Final Shape of our Data => Removed 52 features.\n",
        "df.shape"
      ],
      "execution_count": null,
      "outputs": [
        {
          "output_type": "execute_result",
          "data": {
            "text/plain": [
              "(26307, 21)"
            ]
          },
          "metadata": {},
          "execution_count": 21
        }
      ]
    },
    {
      "cell_type": "code",
      "metadata": {
        "colab": {
          "base_uri": "https://localhost:8080/"
        },
        "id": "m3-_ysteSKnS",
        "outputId": "5fc47ae5-bd1c-4f78-ca36-ad411f075916"
      },
      "source": [
        "##Checking how many nulls do we have in our DataSet.\n",
        "nulls = df.isnull().sum(axis=0).to_frame()\n",
        "for index, row in nulls.iterrows():\n",
        "  print(f\"{index} : {row[0]}\")"
      ],
      "execution_count": null,
      "outputs": [
        {
          "output_type": "stream",
          "name": "stdout",
          "text": [
            "appointmentId : 0\n",
            "inspectionStartTime : 0\n",
            "year : 0\n",
            "month : 0\n",
            "engineTransmission_battery_value : 0\n",
            "engineTransmission_engineoilLevelDipstick_value : 0\n",
            "engineTransmission_engineOil : 0\n",
            "engineTransmission_engineOil_cc_value_0 : 0\n",
            "engineTransmission_engine_value : 0\n",
            "engineTransmission_coolant_value : 0\n",
            "engineTransmission_engineMounting_value : 0\n",
            "engineTransmission_engineSound_value : 0\n",
            "engineTransmission_engineSound_cc_value_0 : 0\n",
            "engineTransmission_exhaustSmoke_value : 0\n",
            "engineTransmission_engineBlowByBackCompression_value : 0\n",
            "engineTransmission_engineBlowByBackCompression_cc_value_0 : 0\n",
            "engineTransmission_clutch_value : 0\n",
            "engineTransmission_gearShifting_value : 0\n",
            "fuel_type : 0\n",
            "odometer_reading : 0\n",
            "rating_engineTransmission : 0\n"
          ]
        }
      ]
    },
    {
      "cell_type": "code",
      "metadata": {
        "colab": {
          "base_uri": "https://localhost:8080/",
          "height": 595
        },
        "id": "_euZ4DpLJqZy",
        "outputId": "cbfa0e3d-f30b-4570-989c-abf2f1bb000c"
      },
      "source": [
        "sns.heatmap(df.isnull(),yticklabels=False,cbar=False,cmap='YlGnBu')"
      ],
      "execution_count": null,
      "outputs": [
        {
          "output_type": "execute_result",
          "data": {
            "text/plain": [
              "<matplotlib.axes._subplots.AxesSubplot at 0x7f1d09533710>"
            ]
          },
          "metadata": {},
          "execution_count": 23
        },
        {
          "output_type": "display_data",
          "data": {
            "image/png": "[encoded data removed]",
            "text/plain": [
              "<Figure size 432x288 with 1 Axes>"
            ]
          },
          "metadata": {
            "needs_background": "light"
          }
        }
      ]
    },
    {
      "cell_type": "code",
      "metadata": {
        "colab": {
          "base_uri": "https://localhost:8080/",
          "height": 305
        },
        "id": "Bqsan8PMSo5B",
        "outputId": "6ee05f84-63d9-419f-a0aa-37c2592f7ca5"
      },
      "source": [
        "fig, ax = plt.subplots()\n",
        "plt.title('Distribution of ratings', fontsize=25)\n",
        "sns.countplot(df.rating_engineTransmission)\n",
        "ax.set_yticklabels([item for item in ax.get_yticks()])\n",
        "ax.set_ylabel('No. of Ratings')\n",
        "\n",
        "plt.show()"
      ],
      "execution_count": null,
      "outputs": [
        {
          "output_type": "display_data",
          "data": {
            "image/png": "[encoded data removed]",
            "text/plain": [
              "<Figure size 432x288 with 1 Axes>"
            ]
          },
          "metadata": {
            "needs_background": "light"
          }
        }
      ]
    },
    {
      "cell_type": "markdown",
      "metadata": {
        "id": "VRAePL_MWBmA"
      },
      "source": [
        "Clearly, we can see that there is a huge ratings imbalance problem"
      ]
    },
    {
      "cell_type": "markdown",
      "metadata": {
        "id": "6VgjzO6Bgmm5"
      },
      "source": [
        "## Handling Categorical features"
      ]
    },
    {
      "cell_type": "code",
      "metadata": {
        "id": "d3tRCdhjZRi5"
      },
      "source": [
        "columns=['engineTransmission_battery_value','engineTransmission_engineoilLevelDipstick_value',\n",
        "         'engineTransmission_engineOil','engineTransmission_engineOil_cc_value_0','engineTransmission_engine_value',\n",
        "         'engineTransmission_coolant_value','engineTransmission_engineMounting_value','engineTransmission_engineSound_value',\n",
        "         'engineTransmission_engineSound_cc_value_0','engineTransmission_exhaustSmoke_value',\n",
        "         'engineTransmission_engineBlowByBackCompression_value','engineTransmission_engineBlowByBackCompression_cc_value_0',\n",
        "         'engineTransmission_clutch_value','engineTransmission_gearShifting_value','fuel_type']"
      ],
      "execution_count": null,
      "outputs": []
    },
    {
      "cell_type": "code",
      "metadata": {
        "colab": {
          "base_uri": "https://localhost:8080/"
        },
        "id": "DPgyDQcngxI6",
        "outputId": "dae36300-a480-4ae8-b10c-5f402969e114"
      },
      "source": [
        "len(columns)"
      ],
      "execution_count": null,
      "outputs": [
        {
          "output_type": "execute_result",
          "data": {
            "text/plain": [
              "15"
            ]
          },
          "metadata": {},
          "execution_count": 26
        }
      ]
    },
    {
      "cell_type": "code",
      "metadata": {
        "id": "UJBWrmBbgyxl"
      },
      "source": [
        "def one_hot_multicols(multcolumns):\n",
        "    df_final=final_df\n",
        "    i=0\n",
        "    for fields in multcolumns:\n",
        "        \n",
        "        print(fields)\n",
        "        df1=pd.get_dummies(final_df[fields],drop_first=True)\n",
        "        \n",
        "        final_df.drop([fields],axis=1,inplace=True)\n",
        "        if i==0:\n",
        "            df_final=df1.copy()\n",
        "        else:\n",
        "            \n",
        "            df_final=pd.concat([df_final,df1],axis=1)\n",
        "        i=i+1\n",
        "       \n",
        "        \n",
        "    df_final=pd.concat([final_df,df_final],axis=1)\n",
        "        \n",
        "    return df_final"
      ],
      "execution_count": null,
      "outputs": []
    },
    {
      "cell_type": "code",
      "metadata": {
        "id": "_cfVWiW6je1f"
      },
      "source": [
        "final_df = df"
      ],
      "execution_count": null,
      "outputs": []
    },
    {
      "cell_type": "code",
      "metadata": {
        "colab": {
          "base_uri": "https://localhost:8080/"
        },
        "id": "2pAqb53IjRT4",
        "outputId": "55d14373-3926-4eac-b591-87155e42dadc"
      },
      "source": [
        "final_df = one_hot_multicols(columns)"
      ],
      "execution_count": null,
      "outputs": [
        {
          "output_type": "stream",
          "name": "stdout",
          "text": [
            "engineTransmission_battery_value\n",
            "engineTransmission_engineoilLevelDipstick_value\n",
            "engineTransmission_engineOil\n",
            "engineTransmission_engineOil_cc_value_0\n",
            "engineTransmission_engine_value\n",
            "engineTransmission_coolant_value\n",
            "engineTransmission_engineMounting_value\n",
            "engineTransmission_engineSound_value\n",
            "engineTransmission_engineSound_cc_value_0\n",
            "engineTransmission_exhaustSmoke_value\n",
            "engineTransmission_engineBlowByBackCompression_value\n",
            "engineTransmission_engineBlowByBackCompression_cc_value_0\n",
            "engineTransmission_clutch_value\n",
            "engineTransmission_gearShifting_value\n",
            "fuel_type\n"
          ]
        }
      ]
    },
    {
      "cell_type": "code",
      "metadata": {
        "colab": {
          "base_uri": "https://localhost:8080/"
        },
        "id": "o4brpU8jjX7d",
        "outputId": "8efcc5e5-a4c9-47b0-b814-2a7e1ff71653"
      },
      "source": [
        "final_df.shape"
      ],
      "execution_count": null,
      "outputs": [
        {
          "output_type": "execute_result",
          "data": {
            "text/plain": [
              "(26307, 40)"
            ]
          },
          "metadata": {},
          "execution_count": 30
        }
      ]
    },
    {
      "cell_type": "code",
      "metadata": {
        "id": "mYuH4Oa5jljZ"
      },
      "source": [
        "## Removing the duplicated columns\n",
        "final_df =final_df.loc[:,~final_df.columns.duplicated()]"
      ],
      "execution_count": null,
      "outputs": []
    },
    {
      "cell_type": "code",
      "metadata": {
        "colab": {
          "base_uri": "https://localhost:8080/"
        },
        "id": "tpK3TEXUj94F",
        "outputId": "3f5b5f65-b7c9-43ed-aae0-cdc0c463ca9a"
      },
      "source": [
        "final_df.shape"
      ],
      "execution_count": null,
      "outputs": [
        {
          "output_type": "execute_result",
          "data": {
            "text/plain": [
              "(26307, 30)"
            ]
          },
          "metadata": {},
          "execution_count": 32
        }
      ]
    },
    {
      "cell_type": "code",
      "metadata": {
        "colab": {
          "base_uri": "https://localhost:8080/",
          "height": 295
        },
        "id": "KWiKQnPjkIPg",
        "outputId": "63a54410-275c-418b-cc1e-bb26642edc6c"
      },
      "source": [
        "final_df.head()"
      ],
      "execution_count": null,
      "outputs": [
        {
          "output_type": "execute_result",
          "data": {
            "text/html": [
              "<div>\n",
              "<style scoped>\n",
              "    .dataframe tbody tr th:only-of-type {\n",
              "        vertical-align: middle;\n",
              "    }\n",
              "\n",
              "    .dataframe tbody tr th {\n",
              "        vertical-align: top;\n",
              "    }\n",
              "\n",
              "    .dataframe thead th {\n",
              "        text-align: right;\n",
              "    }\n",
              "</style>\n",
              "<table border=\"1\" class=\"dataframe\">\n",
              "  <thead>\n",
              "    <tr style=\"text-align: right;\">\n",
              "      <th></th>\n",
              "      <th>appointmentId</th>\n",
              "      <th>inspectionStartTime</th>\n",
              "      <th>year</th>\n",
              "      <th>month</th>\n",
              "      <th>odometer_reading</th>\n",
              "      <th>rating_engineTransmission</th>\n",
              "      <th>Yes</th>\n",
              "      <th>Leakage from Side cover</th>\n",
              "      <th>Leakage from Sump/chamber</th>\n",
              "      <th>Leakage from Tappet Cover</th>\n",
              "      <th>Leakage from Turbo Charger</th>\n",
              "      <th>Leaking</th>\n",
              "      <th>Level Low</th>\n",
              "      <th>Low Pressure warning light glowing</th>\n",
              "      <th>Mixed with Coolant</th>\n",
              "      <th>Engine Auxiliary Noise</th>\n",
              "      <th>Injector Noise</th>\n",
              "      <th>Tappet Noise</th>\n",
              "      <th>Timing Noise</th>\n",
              "      <th>Water Pump Brg Noise</th>\n",
              "      <th>Whistling Noise-Turbo</th>\n",
              "      <th>NO Blow-by</th>\n",
              "      <th>Oil spillage on Idle</th>\n",
              "      <th>Perm. Blow By on idle</th>\n",
              "      <th>Perm. blow by &amp; oil spillage on idle</th>\n",
              "      <th>Electric</th>\n",
              "      <th>Hybrid</th>\n",
              "      <th>Petrol</th>\n",
              "      <th>Petrol + CNG</th>\n",
              "      <th>Petrol + LPG</th>\n",
              "    </tr>\n",
              "  </thead>\n",
              "  <tbody>\n",
              "    <tr>\n",
              "      <th>0</th>\n",
              "      <td>aj_01</td>\n",
              "      <td>2019-02-03 15:43:48</td>\n",
              "      <td>2008</td>\n",
              "      <td>8</td>\n",
              "      <td>124600</td>\n",
              "      <td>3.0</td>\n",
              "      <td>0</td>\n",
              "      <td>0</td>\n",
              "      <td>0</td>\n",
              "      <td>0</td>\n",
              "      <td>0</td>\n",
              "      <td>1</td>\n",
              "      <td>0</td>\n",
              "      <td>0</td>\n",
              "      <td>0</td>\n",
              "      <td>0</td>\n",
              "      <td>0</td>\n",
              "      <td>0</td>\n",
              "      <td>0</td>\n",
              "      <td>0</td>\n",
              "      <td>0</td>\n",
              "      <td>0</td>\n",
              "      <td>0</td>\n",
              "      <td>0</td>\n",
              "      <td>0</td>\n",
              "      <td>0</td>\n",
              "      <td>0</td>\n",
              "      <td>0</td>\n",
              "      <td>1</td>\n",
              "      <td>0</td>\n",
              "    </tr>\n",
              "    <tr>\n",
              "      <th>1</th>\n",
              "      <td>aj_02</td>\n",
              "      <td>2019-01-16 13:02:12</td>\n",
              "      <td>2007</td>\n",
              "      <td>5</td>\n",
              "      <td>78108</td>\n",
              "      <td>4.0</td>\n",
              "      <td>1</td>\n",
              "      <td>0</td>\n",
              "      <td>0</td>\n",
              "      <td>0</td>\n",
              "      <td>0</td>\n",
              "      <td>1</td>\n",
              "      <td>0</td>\n",
              "      <td>0</td>\n",
              "      <td>0</td>\n",
              "      <td>0</td>\n",
              "      <td>0</td>\n",
              "      <td>0</td>\n",
              "      <td>1</td>\n",
              "      <td>0</td>\n",
              "      <td>0</td>\n",
              "      <td>1</td>\n",
              "      <td>0</td>\n",
              "      <td>0</td>\n",
              "      <td>0</td>\n",
              "      <td>0</td>\n",
              "      <td>0</td>\n",
              "      <td>0</td>\n",
              "      <td>1</td>\n",
              "      <td>0</td>\n",
              "    </tr>\n",
              "    <tr>\n",
              "      <th>2</th>\n",
              "      <td>aj_03</td>\n",
              "      <td>2019-02-09 13:31:04</td>\n",
              "      <td>2012</td>\n",
              "      <td>5</td>\n",
              "      <td>93348</td>\n",
              "      <td>3.5</td>\n",
              "      <td>1</td>\n",
              "      <td>0</td>\n",
              "      <td>0</td>\n",
              "      <td>0</td>\n",
              "      <td>0</td>\n",
              "      <td>0</td>\n",
              "      <td>0</td>\n",
              "      <td>0</td>\n",
              "      <td>0</td>\n",
              "      <td>0</td>\n",
              "      <td>0</td>\n",
              "      <td>0</td>\n",
              "      <td>0</td>\n",
              "      <td>0</td>\n",
              "      <td>0</td>\n",
              "      <td>0</td>\n",
              "      <td>0</td>\n",
              "      <td>1</td>\n",
              "      <td>0</td>\n",
              "      <td>0</td>\n",
              "      <td>0</td>\n",
              "      <td>0</td>\n",
              "      <td>0</td>\n",
              "      <td>0</td>\n",
              "    </tr>\n",
              "    <tr>\n",
              "      <th>3</th>\n",
              "      <td>aj_04</td>\n",
              "      <td>2019-01-18 11:02:53</td>\n",
              "      <td>2013</td>\n",
              "      <td>1</td>\n",
              "      <td>48233</td>\n",
              "      <td>3.5</td>\n",
              "      <td>1</td>\n",
              "      <td>0</td>\n",
              "      <td>0</td>\n",
              "      <td>0</td>\n",
              "      <td>0</td>\n",
              "      <td>0</td>\n",
              "      <td>0</td>\n",
              "      <td>0</td>\n",
              "      <td>0</td>\n",
              "      <td>0</td>\n",
              "      <td>0</td>\n",
              "      <td>0</td>\n",
              "      <td>1</td>\n",
              "      <td>0</td>\n",
              "      <td>0</td>\n",
              "      <td>1</td>\n",
              "      <td>0</td>\n",
              "      <td>0</td>\n",
              "      <td>0</td>\n",
              "      <td>0</td>\n",
              "      <td>0</td>\n",
              "      <td>0</td>\n",
              "      <td>1</td>\n",
              "      <td>0</td>\n",
              "    </tr>\n",
              "    <tr>\n",
              "      <th>4</th>\n",
              "      <td>aj_05</td>\n",
              "      <td>2019-01-27 12:12:06</td>\n",
              "      <td>2011</td>\n",
              "      <td>7</td>\n",
              "      <td>74368</td>\n",
              "      <td>4.0</td>\n",
              "      <td>1</td>\n",
              "      <td>0</td>\n",
              "      <td>0</td>\n",
              "      <td>0</td>\n",
              "      <td>0</td>\n",
              "      <td>1</td>\n",
              "      <td>0</td>\n",
              "      <td>0</td>\n",
              "      <td>0</td>\n",
              "      <td>0</td>\n",
              "      <td>0</td>\n",
              "      <td>0</td>\n",
              "      <td>1</td>\n",
              "      <td>0</td>\n",
              "      <td>0</td>\n",
              "      <td>1</td>\n",
              "      <td>0</td>\n",
              "      <td>0</td>\n",
              "      <td>0</td>\n",
              "      <td>0</td>\n",
              "      <td>0</td>\n",
              "      <td>0</td>\n",
              "      <td>1</td>\n",
              "      <td>0</td>\n",
              "    </tr>\n",
              "  </tbody>\n",
              "</table>\n",
              "</div>"
            ],
            "text/plain": [
              "  appointmentId inspectionStartTime  year  ...  Petrol  Petrol + CNG  Petrol + LPG\n",
              "0         aj_01 2019-02-03 15:43:48  2008  ...       0             1             0\n",
              "1         aj_02 2019-01-16 13:02:12  2007  ...       0             1             0\n",
              "2         aj_03 2019-02-09 13:31:04  2012  ...       0             0             0\n",
              "3         aj_04 2019-01-18 11:02:53  2013  ...       0             1             0\n",
              "4         aj_05 2019-01-27 12:12:06  2011  ...       0             1             0\n",
              "\n",
              "[5 rows x 30 columns]"
            ]
          },
          "metadata": {},
          "execution_count": 33
        }
      ]
    },
    {
      "cell_type": "code",
      "metadata": {
        "id": "CWwA8dw0kKgD"
      },
      "source": [
        "final_df=final_df.drop(['appointmentId'],axis=1)"
      ],
      "execution_count": null,
      "outputs": []
    },
    {
      "cell_type": "code",
      "metadata": {
        "colab": {
          "base_uri": "https://localhost:8080/",
          "height": 295
        },
        "id": "CLIZQ4W8kZDO",
        "outputId": "ff423ee8-701c-415f-ca7d-e045fb92ea5a"
      },
      "source": [
        "X=final_df.drop(['rating_engineTransmission'], axis=1)\n",
        "X=final_df.drop(['inspectionStartTime'], axis=1)\n",
        "X.head()"
      ],
      "execution_count": null,
      "outputs": [
        {
          "output_type": "execute_result",
          "data": {
            "text/html": [
              "<div>\n",
              "<style scoped>\n",
              "    .dataframe tbody tr th:only-of-type {\n",
              "        vertical-align: middle;\n",
              "    }\n",
              "\n",
              "    .dataframe tbody tr th {\n",
              "        vertical-align: top;\n",
              "    }\n",
              "\n",
              "    .dataframe thead th {\n",
              "        text-align: right;\n",
              "    }\n",
              "</style>\n",
              "<table border=\"1\" class=\"dataframe\">\n",
              "  <thead>\n",
              "    <tr style=\"text-align: right;\">\n",
              "      <th></th>\n",
              "      <th>year</th>\n",
              "      <th>month</th>\n",
              "      <th>odometer_reading</th>\n",
              "      <th>rating_engineTransmission</th>\n",
              "      <th>Yes</th>\n",
              "      <th>Leakage from Side cover</th>\n",
              "      <th>Leakage from Sump/chamber</th>\n",
              "      <th>Leakage from Tappet Cover</th>\n",
              "      <th>Leakage from Turbo Charger</th>\n",
              "      <th>Leaking</th>\n",
              "      <th>Level Low</th>\n",
              "      <th>Low Pressure warning light glowing</th>\n",
              "      <th>Mixed with Coolant</th>\n",
              "      <th>Engine Auxiliary Noise</th>\n",
              "      <th>Injector Noise</th>\n",
              "      <th>Tappet Noise</th>\n",
              "      <th>Timing Noise</th>\n",
              "      <th>Water Pump Brg Noise</th>\n",
              "      <th>Whistling Noise-Turbo</th>\n",
              "      <th>NO Blow-by</th>\n",
              "      <th>Oil spillage on Idle</th>\n",
              "      <th>Perm. Blow By on idle</th>\n",
              "      <th>Perm. blow by &amp; oil spillage on idle</th>\n",
              "      <th>Electric</th>\n",
              "      <th>Hybrid</th>\n",
              "      <th>Petrol</th>\n",
              "      <th>Petrol + CNG</th>\n",
              "      <th>Petrol + LPG</th>\n",
              "    </tr>\n",
              "  </thead>\n",
              "  <tbody>\n",
              "    <tr>\n",
              "      <th>0</th>\n",
              "      <td>2008</td>\n",
              "      <td>8</td>\n",
              "      <td>124600</td>\n",
              "      <td>3.0</td>\n",
              "      <td>0</td>\n",
              "      <td>0</td>\n",
              "      <td>0</td>\n",
              "      <td>0</td>\n",
              "      <td>0</td>\n",
              "      <td>1</td>\n",
              "      <td>0</td>\n",
              "      <td>0</td>\n",
              "      <td>0</td>\n",
              "      <td>0</td>\n",
              "      <td>0</td>\n",
              "      <td>0</td>\n",
              "      <td>0</td>\n",
              "      <td>0</td>\n",
              "      <td>0</td>\n",
              "      <td>0</td>\n",
              "      <td>0</td>\n",
              "      <td>0</td>\n",
              "      <td>0</td>\n",
              "      <td>0</td>\n",
              "      <td>0</td>\n",
              "      <td>0</td>\n",
              "      <td>1</td>\n",
              "      <td>0</td>\n",
              "    </tr>\n",
              "    <tr>\n",
              "      <th>1</th>\n",
              "      <td>2007</td>\n",
              "      <td>5</td>\n",
              "      <td>78108</td>\n",
              "      <td>4.0</td>\n",
              "      <td>1</td>\n",
              "      <td>0</td>\n",
              "      <td>0</td>\n",
              "      <td>0</td>\n",
              "      <td>0</td>\n",
              "      <td>1</td>\n",
              "      <td>0</td>\n",
              "      <td>0</td>\n",
              "      <td>0</td>\n",
              "      <td>0</td>\n",
              "      <td>0</td>\n",
              "      <td>0</td>\n",
              "      <td>1</td>\n",
              "      <td>0</td>\n",
              "      <td>0</td>\n",
              "      <td>1</td>\n",
              "      <td>0</td>\n",
              "      <td>0</td>\n",
              "      <td>0</td>\n",
              "      <td>0</td>\n",
              "      <td>0</td>\n",
              "      <td>0</td>\n",
              "      <td>1</td>\n",
              "      <td>0</td>\n",
              "    </tr>\n",
              "    <tr>\n",
              "      <th>2</th>\n",
              "      <td>2012</td>\n",
              "      <td>5</td>\n",
              "      <td>93348</td>\n",
              "      <td>3.5</td>\n",
              "      <td>1</td>\n",
              "      <td>0</td>\n",
              "      <td>0</td>\n",
              "      <td>0</td>\n",
              "      <td>0</td>\n",
              "      <td>0</td>\n",
              "      <td>0</td>\n",
              "      <td>0</td>\n",
              "      <td>0</td>\n",
              "      <td>0</td>\n",
              "      <td>0</td>\n",
              "      <td>0</td>\n",
              "      <td>0</td>\n",
              "      <td>0</td>\n",
              "      <td>0</td>\n",
              "      <td>0</td>\n",
              "      <td>0</td>\n",
              "      <td>1</td>\n",
              "      <td>0</td>\n",
              "      <td>0</td>\n",
              "      <td>0</td>\n",
              "      <td>0</td>\n",
              "      <td>0</td>\n",
              "      <td>0</td>\n",
              "    </tr>\n",
              "    <tr>\n",
              "      <th>3</th>\n",
              "      <td>2013</td>\n",
              "      <td>1</td>\n",
              "      <td>48233</td>\n",
              "      <td>3.5</td>\n",
              "      <td>1</td>\n",
              "      <td>0</td>\n",
              "      <td>0</td>\n",
              "      <td>0</td>\n",
              "      <td>0</td>\n",
              "      <td>0</td>\n",
              "      <td>0</td>\n",
              "      <td>0</td>\n",
              "      <td>0</td>\n",
              "      <td>0</td>\n",
              "      <td>0</td>\n",
              "      <td>0</td>\n",
              "      <td>1</td>\n",
              "      <td>0</td>\n",
              "      <td>0</td>\n",
              "      <td>1</td>\n",
              "      <td>0</td>\n",
              "      <td>0</td>\n",
              "      <td>0</td>\n",
              "      <td>0</td>\n",
              "      <td>0</td>\n",
              "      <td>0</td>\n",
              "      <td>1</td>\n",
              "      <td>0</td>\n",
              "    </tr>\n",
              "    <tr>\n",
              "      <th>4</th>\n",
              "      <td>2011</td>\n",
              "      <td>7</td>\n",
              "      <td>74368</td>\n",
              "      <td>4.0</td>\n",
              "      <td>1</td>\n",
              "      <td>0</td>\n",
              "      <td>0</td>\n",
              "      <td>0</td>\n",
              "      <td>0</td>\n",
              "      <td>1</td>\n",
              "      <td>0</td>\n",
              "      <td>0</td>\n",
              "      <td>0</td>\n",
              "      <td>0</td>\n",
              "      <td>0</td>\n",
              "      <td>0</td>\n",
              "      <td>1</td>\n",
              "      <td>0</td>\n",
              "      <td>0</td>\n",
              "      <td>1</td>\n",
              "      <td>0</td>\n",
              "      <td>0</td>\n",
              "      <td>0</td>\n",
              "      <td>0</td>\n",
              "      <td>0</td>\n",
              "      <td>0</td>\n",
              "      <td>1</td>\n",
              "      <td>0</td>\n",
              "    </tr>\n",
              "  </tbody>\n",
              "</table>\n",
              "</div>"
            ],
            "text/plain": [
              "   year  month  odometer_reading  ...  Petrol  Petrol + CNG  Petrol + LPG\n",
              "0  2008      8            124600  ...       0             1             0\n",
              "1  2007      5             78108  ...       0             1             0\n",
              "2  2012      5             93348  ...       0             0             0\n",
              "3  2013      1             48233  ...       0             1             0\n",
              "4  2011      7             74368  ...       0             1             0\n",
              "\n",
              "[5 rows x 28 columns]"
            ]
          },
          "metadata": {},
          "execution_count": 35
        }
      ]
    },
    {
      "cell_type": "code",
      "metadata": {
        "colab": {
          "base_uri": "https://localhost:8080/"
        },
        "id": "sh73ZBz1kiVz",
        "outputId": "127d9ab3-0b7e-464f-ab2b-3a97c92aec1d"
      },
      "source": [
        "Y=final_df.rating_engineTransmission\n",
        "Y.head()"
      ],
      "execution_count": null,
      "outputs": [
        {
          "output_type": "execute_result",
          "data": {
            "text/plain": [
              "0    3.0\n",
              "1    4.0\n",
              "2    3.5\n",
              "3    3.5\n",
              "4    4.0\n",
              "Name: rating_engineTransmission, dtype: float64"
            ]
          },
          "metadata": {},
          "execution_count": 36
        }
      ]
    },
    {
      "cell_type": "code",
      "metadata": {
        "id": "lcVAm2s7kkRR"
      },
      "source": [
        "X_train, X_test, Y_train, Y_test = train_test_split(X, Y, test_size=0.3, random_state=42)"
      ],
      "execution_count": null,
      "outputs": []
    },
    {
      "cell_type": "code",
      "metadata": {
        "colab": {
          "base_uri": "https://localhost:8080/"
        },
        "id": "Di7xXIQtkm8r",
        "outputId": "16145efb-1e99-4542-94b9-4aa4e3ad22d4"
      },
      "source": [
        "\n",
        "print(\"Number of data points in train data :\",X_train.shape)\n",
        "print(\"Number of data points in test data :\",X_test.shape)"
      ],
      "execution_count": null,
      "outputs": [
        {
          "output_type": "stream",
          "name": "stdout",
          "text": [
            "Number of data points in train data : (18414, 28)\n",
            "Number of data points in test data : (7893, 28)\n"
          ]
        }
      ]
    },
    {
      "cell_type": "code",
      "metadata": {
        "colab": {
          "base_uri": "https://localhost:8080/"
        },
        "id": "6aCo_DgSkow0",
        "outputId": "40c5378b-8322-4840-cab2-56d4fcf7ff6e"
      },
      "source": [
        "print(\"Number of data points in train data :\",Y_train.shape)\n",
        "print(\"Number of data points in test data :\",Y_test.shape)\n",
        "Y_train.head()\n"
      ],
      "execution_count": null,
      "outputs": [
        {
          "output_type": "stream",
          "name": "stdout",
          "text": [
            "Number of data points in train data : (18414,)\n",
            "Number of data points in test data : (7893,)\n"
          ]
        },
        {
          "output_type": "execute_result",
          "data": {
            "text/plain": [
              "13995    4.0\n",
              "261      3.5\n",
              "14459    4.0\n",
              "4192     4.0\n",
              "4548     3.5\n",
              "Name: rating_engineTransmission, dtype: float64"
            ]
          },
          "metadata": {},
          "execution_count": 39
        }
      ]
    },
    {
      "cell_type": "code",
      "metadata": {
        "colab": {
          "base_uri": "https://localhost:8080/"
        },
        "id": "sNXZOgDPnW5z",
        "outputId": "c0d901bc-fbba-4fda-85c0-6bcb48a4b915"
      },
      "source": [
        "X_test.shape"
      ],
      "execution_count": null,
      "outputs": [
        {
          "output_type": "execute_result",
          "data": {
            "text/plain": [
              "(7893, 28)"
            ]
          },
          "metadata": {},
          "execution_count": 40
        }
      ]
    },
    {
      "cell_type": "code",
      "metadata": {
        "colab": {
          "base_uri": "https://localhost:8080/",
          "height": 295
        },
        "id": "fALtN_SCnf3z",
        "outputId": "d9544d13-d41e-489b-d6c1-542f55003abf"
      },
      "source": [
        "X_test.head()"
      ],
      "execution_count": null,
      "outputs": [
        {
          "output_type": "execute_result",
          "data": {
            "text/html": [
              "<div>\n",
              "<style scoped>\n",
              "    .dataframe tbody tr th:only-of-type {\n",
              "        vertical-align: middle;\n",
              "    }\n",
              "\n",
              "    .dataframe tbody tr th {\n",
              "        vertical-align: top;\n",
              "    }\n",
              "\n",
              "    .dataframe thead th {\n",
              "        text-align: right;\n",
              "    }\n",
              "</style>\n",
              "<table border=\"1\" class=\"dataframe\">\n",
              "  <thead>\n",
              "    <tr style=\"text-align: right;\">\n",
              "      <th></th>\n",
              "      <th>year</th>\n",
              "      <th>month</th>\n",
              "      <th>odometer_reading</th>\n",
              "      <th>rating_engineTransmission</th>\n",
              "      <th>Yes</th>\n",
              "      <th>Leakage from Side cover</th>\n",
              "      <th>Leakage from Sump/chamber</th>\n",
              "      <th>Leakage from Tappet Cover</th>\n",
              "      <th>Leakage from Turbo Charger</th>\n",
              "      <th>Leaking</th>\n",
              "      <th>Level Low</th>\n",
              "      <th>Low Pressure warning light glowing</th>\n",
              "      <th>Mixed with Coolant</th>\n",
              "      <th>Engine Auxiliary Noise</th>\n",
              "      <th>Injector Noise</th>\n",
              "      <th>Tappet Noise</th>\n",
              "      <th>Timing Noise</th>\n",
              "      <th>Water Pump Brg Noise</th>\n",
              "      <th>Whistling Noise-Turbo</th>\n",
              "      <th>NO Blow-by</th>\n",
              "      <th>Oil spillage on Idle</th>\n",
              "      <th>Perm. Blow By on idle</th>\n",
              "      <th>Perm. blow by &amp; oil spillage on idle</th>\n",
              "      <th>Electric</th>\n",
              "      <th>Hybrid</th>\n",
              "      <th>Petrol</th>\n",
              "      <th>Petrol + CNG</th>\n",
              "      <th>Petrol + LPG</th>\n",
              "    </tr>\n",
              "  </thead>\n",
              "  <tbody>\n",
              "    <tr>\n",
              "      <th>3739</th>\n",
              "      <td>2017</td>\n",
              "      <td>10</td>\n",
              "      <td>47131</td>\n",
              "      <td>5.0</td>\n",
              "      <td>1</td>\n",
              "      <td>0</td>\n",
              "      <td>0</td>\n",
              "      <td>0</td>\n",
              "      <td>0</td>\n",
              "      <td>1</td>\n",
              "      <td>0</td>\n",
              "      <td>0</td>\n",
              "      <td>0</td>\n",
              "      <td>0</td>\n",
              "      <td>0</td>\n",
              "      <td>0</td>\n",
              "      <td>1</td>\n",
              "      <td>0</td>\n",
              "      <td>0</td>\n",
              "      <td>1</td>\n",
              "      <td>0</td>\n",
              "      <td>0</td>\n",
              "      <td>0</td>\n",
              "      <td>0</td>\n",
              "      <td>0</td>\n",
              "      <td>0</td>\n",
              "      <td>1</td>\n",
              "      <td>0</td>\n",
              "    </tr>\n",
              "    <tr>\n",
              "      <th>23531</th>\n",
              "      <td>2005</td>\n",
              "      <td>7</td>\n",
              "      <td>176533</td>\n",
              "      <td>3.0</td>\n",
              "      <td>1</td>\n",
              "      <td>0</td>\n",
              "      <td>0</td>\n",
              "      <td>0</td>\n",
              "      <td>0</td>\n",
              "      <td>1</td>\n",
              "      <td>0</td>\n",
              "      <td>0</td>\n",
              "      <td>0</td>\n",
              "      <td>0</td>\n",
              "      <td>0</td>\n",
              "      <td>0</td>\n",
              "      <td>1</td>\n",
              "      <td>0</td>\n",
              "      <td>0</td>\n",
              "      <td>1</td>\n",
              "      <td>0</td>\n",
              "      <td>0</td>\n",
              "      <td>0</td>\n",
              "      <td>0</td>\n",
              "      <td>0</td>\n",
              "      <td>0</td>\n",
              "      <td>1</td>\n",
              "      <td>0</td>\n",
              "    </tr>\n",
              "    <tr>\n",
              "      <th>13838</th>\n",
              "      <td>2013</td>\n",
              "      <td>6</td>\n",
              "      <td>48433</td>\n",
              "      <td>3.5</td>\n",
              "      <td>0</td>\n",
              "      <td>0</td>\n",
              "      <td>0</td>\n",
              "      <td>0</td>\n",
              "      <td>0</td>\n",
              "      <td>1</td>\n",
              "      <td>0</td>\n",
              "      <td>0</td>\n",
              "      <td>0</td>\n",
              "      <td>0</td>\n",
              "      <td>0</td>\n",
              "      <td>1</td>\n",
              "      <td>0</td>\n",
              "      <td>0</td>\n",
              "      <td>0</td>\n",
              "      <td>1</td>\n",
              "      <td>0</td>\n",
              "      <td>0</td>\n",
              "      <td>0</td>\n",
              "      <td>0</td>\n",
              "      <td>0</td>\n",
              "      <td>1</td>\n",
              "      <td>0</td>\n",
              "      <td>0</td>\n",
              "    </tr>\n",
              "    <tr>\n",
              "      <th>10108</th>\n",
              "      <td>2014</td>\n",
              "      <td>3</td>\n",
              "      <td>45784</td>\n",
              "      <td>3.0</td>\n",
              "      <td>1</td>\n",
              "      <td>0</td>\n",
              "      <td>0</td>\n",
              "      <td>0</td>\n",
              "      <td>0</td>\n",
              "      <td>0</td>\n",
              "      <td>1</td>\n",
              "      <td>0</td>\n",
              "      <td>0</td>\n",
              "      <td>0</td>\n",
              "      <td>0</td>\n",
              "      <td>0</td>\n",
              "      <td>0</td>\n",
              "      <td>0</td>\n",
              "      <td>1</td>\n",
              "      <td>0</td>\n",
              "      <td>0</td>\n",
              "      <td>1</td>\n",
              "      <td>0</td>\n",
              "      <td>0</td>\n",
              "      <td>0</td>\n",
              "      <td>0</td>\n",
              "      <td>0</td>\n",
              "      <td>0</td>\n",
              "    </tr>\n",
              "    <tr>\n",
              "      <th>7125</th>\n",
              "      <td>2006</td>\n",
              "      <td>7</td>\n",
              "      <td>156814</td>\n",
              "      <td>3.0</td>\n",
              "      <td>0</td>\n",
              "      <td>0</td>\n",
              "      <td>0</td>\n",
              "      <td>0</td>\n",
              "      <td>0</td>\n",
              "      <td>0</td>\n",
              "      <td>1</td>\n",
              "      <td>0</td>\n",
              "      <td>0</td>\n",
              "      <td>0</td>\n",
              "      <td>0</td>\n",
              "      <td>0</td>\n",
              "      <td>1</td>\n",
              "      <td>0</td>\n",
              "      <td>0</td>\n",
              "      <td>0</td>\n",
              "      <td>0</td>\n",
              "      <td>0</td>\n",
              "      <td>0</td>\n",
              "      <td>0</td>\n",
              "      <td>0</td>\n",
              "      <td>0</td>\n",
              "      <td>1</td>\n",
              "      <td>0</td>\n",
              "    </tr>\n",
              "  </tbody>\n",
              "</table>\n",
              "</div>"
            ],
            "text/plain": [
              "       year  month  odometer_reading  ...  Petrol  Petrol + CNG  Petrol + LPG\n",
              "3739   2017     10             47131  ...       0             1             0\n",
              "23531  2005      7            176533  ...       0             1             0\n",
              "13838  2013      6             48433  ...       1             0             0\n",
              "10108  2014      3             45784  ...       0             0             0\n",
              "7125   2006      7            156814  ...       0             1             0\n",
              "\n",
              "[5 rows x 28 columns]"
            ]
          },
          "metadata": {},
          "execution_count": 41
        }
      ]
    },
    {
      "cell_type": "code",
      "metadata": {
        "colab": {
          "base_uri": "https://localhost:8080/",
          "height": 295
        },
        "id": "ojV1fLjbniDM",
        "outputId": "5ee92c38-4789-4f37-c200-bdbec76304fd"
      },
      "source": [
        "X_test.drop(['rating_engineTransmission'],axis=1).head()"
      ],
      "execution_count": null,
      "outputs": [
        {
          "output_type": "execute_result",
          "data": {
            "text/html": [
              "<div>\n",
              "<style scoped>\n",
              "    .dataframe tbody tr th:only-of-type {\n",
              "        vertical-align: middle;\n",
              "    }\n",
              "\n",
              "    .dataframe tbody tr th {\n",
              "        vertical-align: top;\n",
              "    }\n",
              "\n",
              "    .dataframe thead th {\n",
              "        text-align: right;\n",
              "    }\n",
              "</style>\n",
              "<table border=\"1\" class=\"dataframe\">\n",
              "  <thead>\n",
              "    <tr style=\"text-align: right;\">\n",
              "      <th></th>\n",
              "      <th>year</th>\n",
              "      <th>month</th>\n",
              "      <th>odometer_reading</th>\n",
              "      <th>Yes</th>\n",
              "      <th>Leakage from Side cover</th>\n",
              "      <th>Leakage from Sump/chamber</th>\n",
              "      <th>Leakage from Tappet Cover</th>\n",
              "      <th>Leakage from Turbo Charger</th>\n",
              "      <th>Leaking</th>\n",
              "      <th>Level Low</th>\n",
              "      <th>Low Pressure warning light glowing</th>\n",
              "      <th>Mixed with Coolant</th>\n",
              "      <th>Engine Auxiliary Noise</th>\n",
              "      <th>Injector Noise</th>\n",
              "      <th>Tappet Noise</th>\n",
              "      <th>Timing Noise</th>\n",
              "      <th>Water Pump Brg Noise</th>\n",
              "      <th>Whistling Noise-Turbo</th>\n",
              "      <th>NO Blow-by</th>\n",
              "      <th>Oil spillage on Idle</th>\n",
              "      <th>Perm. Blow By on idle</th>\n",
              "      <th>Perm. blow by &amp; oil spillage on idle</th>\n",
              "      <th>Electric</th>\n",
              "      <th>Hybrid</th>\n",
              "      <th>Petrol</th>\n",
              "      <th>Petrol + CNG</th>\n",
              "      <th>Petrol + LPG</th>\n",
              "    </tr>\n",
              "  </thead>\n",
              "  <tbody>\n",
              "    <tr>\n",
              "      <th>3739</th>\n",
              "      <td>2017</td>\n",
              "      <td>10</td>\n",
              "      <td>47131</td>\n",
              "      <td>1</td>\n",
              "      <td>0</td>\n",
              "      <td>0</td>\n",
              "      <td>0</td>\n",
              "      <td>0</td>\n",
              "      <td>1</td>\n",
              "      <td>0</td>\n",
              "      <td>0</td>\n",
              "      <td>0</td>\n",
              "      <td>0</td>\n",
              "      <td>0</td>\n",
              "      <td>0</td>\n",
              "      <td>1</td>\n",
              "      <td>0</td>\n",
              "      <td>0</td>\n",
              "      <td>1</td>\n",
              "      <td>0</td>\n",
              "      <td>0</td>\n",
              "      <td>0</td>\n",
              "      <td>0</td>\n",
              "      <td>0</td>\n",
              "      <td>0</td>\n",
              "      <td>1</td>\n",
              "      <td>0</td>\n",
              "    </tr>\n",
              "    <tr>\n",
              "      <th>23531</th>\n",
              "      <td>2005</td>\n",
              "      <td>7</td>\n",
              "      <td>176533</td>\n",
              "      <td>1</td>\n",
              "      <td>0</td>\n",
              "      <td>0</td>\n",
              "      <td>0</td>\n",
              "      <td>0</td>\n",
              "      <td>1</td>\n",
              "      <td>0</td>\n",
              "      <td>0</td>\n",
              "      <td>0</td>\n",
              "      <td>0</td>\n",
              "      <td>0</td>\n",
              "      <td>0</td>\n",
              "      <td>1</td>\n",
              "      <td>0</td>\n",
              "      <td>0</td>\n",
              "      <td>1</td>\n",
              "      <td>0</td>\n",
              "      <td>0</td>\n",
              "      <td>0</td>\n",
              "      <td>0</td>\n",
              "      <td>0</td>\n",
              "      <td>0</td>\n",
              "      <td>1</td>\n",
              "      <td>0</td>\n",
              "    </tr>\n",
              "    <tr>\n",
              "      <th>13838</th>\n",
              "      <td>2013</td>\n",
              "      <td>6</td>\n",
              "      <td>48433</td>\n",
              "      <td>0</td>\n",
              "      <td>0</td>\n",
              "      <td>0</td>\n",
              "      <td>0</td>\n",
              "      <td>0</td>\n",
              "      <td>1</td>\n",
              "      <td>0</td>\n",
              "      <td>0</td>\n",
              "      <td>0</td>\n",
              "      <td>0</td>\n",
              "      <td>0</td>\n",
              "      <td>1</td>\n",
              "      <td>0</td>\n",
              "      <td>0</td>\n",
              "      <td>0</td>\n",
              "      <td>1</td>\n",
              "      <td>0</td>\n",
              "      <td>0</td>\n",
              "      <td>0</td>\n",
              "      <td>0</td>\n",
              "      <td>0</td>\n",
              "      <td>1</td>\n",
              "      <td>0</td>\n",
              "      <td>0</td>\n",
              "    </tr>\n",
              "    <tr>\n",
              "      <th>10108</th>\n",
              "      <td>2014</td>\n",
              "      <td>3</td>\n",
              "      <td>45784</td>\n",
              "      <td>1</td>\n",
              "      <td>0</td>\n",
              "      <td>0</td>\n",
              "      <td>0</td>\n",
              "      <td>0</td>\n",
              "      <td>0</td>\n",
              "      <td>1</td>\n",
              "      <td>0</td>\n",
              "      <td>0</td>\n",
              "      <td>0</td>\n",
              "      <td>0</td>\n",
              "      <td>0</td>\n",
              "      <td>0</td>\n",
              "      <td>0</td>\n",
              "      <td>1</td>\n",
              "      <td>0</td>\n",
              "      <td>0</td>\n",
              "      <td>1</td>\n",
              "      <td>0</td>\n",
              "      <td>0</td>\n",
              "      <td>0</td>\n",
              "      <td>0</td>\n",
              "      <td>0</td>\n",
              "      <td>0</td>\n",
              "    </tr>\n",
              "    <tr>\n",
              "      <th>7125</th>\n",
              "      <td>2006</td>\n",
              "      <td>7</td>\n",
              "      <td>156814</td>\n",
              "      <td>0</td>\n",
              "      <td>0</td>\n",
              "      <td>0</td>\n",
              "      <td>0</td>\n",
              "      <td>0</td>\n",
              "      <td>0</td>\n",
              "      <td>1</td>\n",
              "      <td>0</td>\n",
              "      <td>0</td>\n",
              "      <td>0</td>\n",
              "      <td>0</td>\n",
              "      <td>0</td>\n",
              "      <td>1</td>\n",
              "      <td>0</td>\n",
              "      <td>0</td>\n",
              "      <td>0</td>\n",
              "      <td>0</td>\n",
              "      <td>0</td>\n",
              "      <td>0</td>\n",
              "      <td>0</td>\n",
              "      <td>0</td>\n",
              "      <td>0</td>\n",
              "      <td>1</td>\n",
              "      <td>0</td>\n",
              "    </tr>\n",
              "  </tbody>\n",
              "</table>\n",
              "</div>"
            ],
            "text/plain": [
              "       year  month  odometer_reading  ...  Petrol  Petrol + CNG  Petrol + LPG\n",
              "3739   2017     10             47131  ...       0             1             0\n",
              "23531  2005      7            176533  ...       0             1             0\n",
              "13838  2013      6             48433  ...       1             0             0\n",
              "10108  2014      3             45784  ...       0             0             0\n",
              "7125   2006      7            156814  ...       0             1             0\n",
              "\n",
              "[5 rows x 27 columns]"
            ]
          },
          "metadata": {},
          "execution_count": 42
        }
      ]
    },
    {
      "cell_type": "code",
      "metadata": {
        "id": "I7u69Qb34i-_"
      },
      "source": [
        "from sklearn.linear_model import LinearRegression\n",
        "from sklearn.ensemble import RandomForestRegressor\n",
        "from sklearn.ensemble import VotingRegressor\n",
        "from lightgbm import LGBMRegressor\n",
        "from sklearn.metrics import mean_squared_error, r2_score, make_scorer\n",
        "from sklearn.impute import SimpleImputer\n",
        "from sklearn.svm import SVR\n",
        "from sklearn.model_selection import GridSearchCV"
      ],
      "execution_count": null,
      "outputs": []
    },
    {
      "cell_type": "code",
      "metadata": {
        "id": "z4d1wkF85thT"
      },
      "source": [
        "Y_test = Y_test.to_numpy()"
      ],
      "execution_count": null,
      "outputs": []
    },
    {
      "cell_type": "code",
      "metadata": {
        "id": "mdS_p8ex4p55"
      },
      "source": [
        "lr = LinearRegression()\n",
        "rf = RandomForestRegressor(random_state=42)\n",
        "lgb = LGBMRegressor(random_state=42, objective='regression')\n",
        "svr = SVR()"
      ],
      "execution_count": null,
      "outputs": []
    },
    {
      "cell_type": "code",
      "metadata": {
        "id": "ueZPbTzl4spR"
      },
      "source": [
        "ensemble_regressor = VotingRegressor(\n",
        "    [('lr', lr), ('rf', rf), ('lgb', lgb), ('svr', svr)])"
      ],
      "execution_count": null,
      "outputs": []
    },
    {
      "cell_type": "code",
      "metadata": {
        "colab": {
          "base_uri": "https://localhost:8080/"
        },
        "id": "YIxl7Iq54yjw",
        "outputId": "3790af18-7754-40e6-e6e9-99850da8da98"
      },
      "source": [
        "for reg in (lr, rf, lgb, svr, ensemble_regressor):\n",
        "    reg.fit(X_train, Y_train)\n",
        "    y_pred = reg.predict(X_test)\n",
        "    print(reg.__class__.__name__, mean_squared_error(Y_test, y_pred))"
      ],
      "execution_count": null,
      "outputs": [
        {
          "output_type": "stream",
          "name": "stdout",
          "text": [
            "LinearRegression 3.635376481250359e-30\n",
            "RandomForestRegressor 3.212340048143925e-05\n",
            "LGBMRegressor 3.168709852152263e-05\n",
            "SVR 0.613362359285991\n",
            "VotingRegressor 0.03839576672711098\n"
          ]
        }
      ]
    },
    {
      "cell_type": "code",
      "metadata": {
        "id": "9pBdesMv9K23"
      },
      "source": [
        ""
      ],
      "execution_count": null,
      "outputs": []
    },
    {
      "cell_type": "markdown",
      "metadata": {
        "id": "THswXSbI7h4g"
      },
      "source": [
        "Please answer the following:\n",
        "\n",
        "1.Briefly describe your approach to this problem and the steps you took\n",
        "\n",
        "    I. By analysing the data, we get to know Dataset has number of missing values. \n",
        "    II. Did  Data pre-processing by handling  missing values and then worked on categorical data using one –hot encoding technique\n",
        "    III. Used Various Machine learning models for training and testing  data, starting from basics to ensembling. \n",
        "    IV.  Got a reasonable MSE score on SVR and on ensemble Regressor.\n"
      ]
    },
    {
      "cell_type": "markdown",
      "metadata": {
        "id": "1gKSy36wDUpm"
      },
      "source": [
        "2.            Basics:\n",
        "\n",
        " a. How well does your model work?\n",
        "\n",
        "\n",
        "    • My model worked well with the ensemble regressor, as it combine the decisions from multiple models \n",
        "    to improve the overall performance. \n",
        "\n",
        "b.How do you know for sure that’s how well it works?\n",
        "\n",
        "    • This model works well for sure because when we calculated mean_squared_error for our model(ensemble regressor), \n",
        "    it came out to be 0.0383 which is much better i.e, our error is quite low.\n",
        "\n",
        "c.What stats did you use to prove its predictive performance and why?\n",
        "\n",
        "    • As our model, Predicting Engine Rating , is a regression problem, we use mean squared error. \n",
        "    Since the errors are squared before they are averaged in MSE, it gives a relatively high weight to large errors. \n",
        "    This means the MSE should be more useful when large errors are particularly undesirable.\n",
        "d.What issues did you encounter?\n",
        "\n",
        "    • Lots of missing values are there which needed to be handled  for best fit model\n",
        "    • Handled categorical data using One- hot encoding for multivariable\n",
        "    • Highly imbalanced data\n",
        "\n",
        "e.What insights did you obtain from this data? For example: What features are important? Why? What visualizations help you understand the data?\n",
        "\n",
        "    • As we have to handle lot of missing values here, we have to choose features that have enough data to train our model better\n",
        "    • Using heatmap visualization, we get to know about features/columns that have lots of missing values . So we removed those features with more than 50% missing values\n",
        "    • By visualizing ratings-plots, we came to know that our data is highly imbalanced. So we can’t use Accuracy as our performance metric\n",
        "    "
      ]
    },
    {
      "cell_type": "markdown",
      "metadata": {
        "id": "pkQgE_kFGLv-"
      },
      "source": [
        "3.Next steps:\n",
        "\n",
        "a.What other data (if any) would have been useful?\n",
        "\n",
        "    • There could have been numerous data about the wear and tear of the engine which could have been used but also numerical data \n",
        "    like the life of the engine and fuel type related life is also detectable as \n",
        "    diesel engines have a lesser life than petrol engines, number of accidents, number of services etc. \n",
        "    Some of these variable could have acted as constraints or good predictors \n",
        "    but with a good and strong correlation for determining the output.\n",
        "\n",
        "b.What are some other things you would have done if you had more time?\n",
        "\n",
        "    • I would have used more time to identify more anomalies in data and specifically used that time to build a good model \n",
        "    for the data as it took me a little more than usual time to determine the best \n",
        "    possible methods to find the prediction model.\n",
        "\n",
        "    • I would have dealt with the ratings imbalance Problem. Generally, Whenever this problem arises in \n",
        "    classification problem I use a technique known as SMOTE(Synthetic Minority Oversampling Technique). \n",
        "    As this is a Regression problem, We can use \n",
        "    SMOGN(Synthetic Minority Over-Sampling Technique for Regression with Gaussian Noise).\n",
        " "
      ]
    },
    {
      "cell_type": "code",
      "metadata": {
        "id": "QLMl4yNp7vca"
      },
      "source": [
        ""
      ],
      "execution_count": null,
      "outputs": []
    }
  ]
}